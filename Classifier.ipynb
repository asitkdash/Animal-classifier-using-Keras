{
 "cells": [
  {
   "cell_type": "code",
   "execution_count": 1,
   "metadata": {},
   "outputs": [
    {
     "name": "stderr",
     "output_type": "stream",
     "text": [
      "Using TensorFlow backend.\n"
     ]
    }
   ],
   "source": [
    "from keras.models import Sequential\n",
    "\n",
    "model = Sequential()"
   ]
  },
  {
   "cell_type": "code",
   "execution_count": 2,
   "metadata": {
    "collapsed": true
   },
   "outputs": [],
   "source": [
    "from keras.layers import Dense, Flatten, MaxPooling2D, Convolution2D"
   ]
  },
  {
   "cell_type": "code",
   "execution_count": 3,
   "metadata": {},
   "outputs": [
    {
     "name": "stderr",
     "output_type": "stream",
     "text": [
      "C:\\Users\\asitd\\Anaconda3\\lib\\site-packages\\ipykernel_launcher.py:3: UserWarning: Update your `Conv2D` call to the Keras 2 API: `Conv2D(32, (3, 3), input_shape=(64, 64, 3..., activation=\"relu\")`\n",
      "  This is separate from the ipykernel package so we can avoid doing imports until\n",
      "C:\\Users\\asitd\\Anaconda3\\lib\\site-packages\\ipykernel_launcher.py:6: UserWarning: Update your `Dense` call to the Keras 2 API: `Dense(activation=\"relu\", units=128)`\n",
      "  \n",
      "C:\\Users\\asitd\\Anaconda3\\lib\\site-packages\\ipykernel_launcher.py:7: UserWarning: Update your `Dense` call to the Keras 2 API: `Dense(activation=\"sigmoid\", units=1)`\n",
      "  import sys\n"
     ]
    }
   ],
   "source": [
    "\n",
    "model = Sequential()\n",
    "model.add(Convolution2D(32,3,3, input_shape=(64,64,3), activation='relu'))\n",
    "model.add(MaxPooling2D(pool_size=(2, 2)))\n",
    "model.add(Flatten())\n",
    "model.add(Dense(output_dim=128,activation='relu'))\n",
    "model.add(Dense(output_dim=1, activation='sigmoid'))"
   ]
  },
  {
   "cell_type": "code",
   "execution_count": 4,
   "metadata": {
    "collapsed": true
   },
   "outputs": [],
   "source": [
    "model.compile(optimizer='adam', loss='binary_crossentropy', metrics=['accuracy'])"
   ]
  },
  {
   "cell_type": "code",
   "execution_count": 5,
   "metadata": {
    "collapsed": true
   },
   "outputs": [],
   "source": [
    "from keras.preprocessing.image import ImageDataGenerator"
   ]
  },
  {
   "cell_type": "code",
   "execution_count": 6,
   "metadata": {
    "collapsed": true
   },
   "outputs": [],
   "source": [
    "train_datagen = ImageDataGenerator(\n",
    "        rescale=1./255,\n",
    "        shear_range=0.2,\n",
    "        zoom_range=0.2,\n",
    "        horizontal_flip=True)"
   ]
  },
  {
   "cell_type": "code",
   "execution_count": 7,
   "metadata": {
    "collapsed": true
   },
   "outputs": [],
   "source": [
    "\n",
    "test_datagen = ImageDataGenerator(rescale=1./255)"
   ]
  },
  {
   "cell_type": "code",
   "execution_count": 8,
   "metadata": {},
   "outputs": [
    {
     "name": "stdout",
     "output_type": "stream",
     "text": [
      "Found 8000 images belonging to 2 classes.\n"
     ]
    }
   ],
   "source": [
    "training_set = train_datagen.flow_from_directory('dataset/training_set',\n",
    "            target_size=(64,64),\n",
    "            batch_size=32,\n",
    "            class_mode='binary')"
   ]
  },
  {
   "cell_type": "code",
   "execution_count": 9,
   "metadata": {},
   "outputs": [
    {
     "name": "stdout",
     "output_type": "stream",
     "text": [
      "Found 2000 images belonging to 2 classes.\n"
     ]
    }
   ],
   "source": [
    "test_set= test_datagen.flow_from_directory('dataset/test_set',\n",
    "        target_size=(64, 64),\n",
    "        batch_size=32,\n",
    "class_mode='binary')"
   ]
  },
  {
   "cell_type": "code",
   "execution_count": 14,
   "metadata": {
    "scrolled": false
   },
   "outputs": [
    {
     "name": "stdout",
     "output_type": "stream",
     "text": [
      "Epoch 1/20\n",
      "500/500 [==============================] - 203s 406ms/step - loss: 0.4865 - acc: 0.7615 - val_loss: 0.5057 - val_acc: 0.7601\n",
      "Epoch 2/20\n",
      "500/500 [==============================] - 211s 422ms/step - loss: 0.4698 - acc: 0.7720 - val_loss: 0.5442 - val_acc: 0.7443\n",
      "Epoch 3/20\n",
      "500/500 [==============================] - 212s 425ms/step - loss: 0.4575 - acc: 0.7820 - val_loss: 0.5374 - val_acc: 0.7604\n",
      "Epoch 4/20\n",
      "500/500 [==============================] - 221s 442ms/step - loss: 0.4351 - acc: 0.7930 - val_loss: 0.5248 - val_acc: 0.7701\n",
      "Epoch 5/20\n",
      "500/500 [==============================] - 228s 455ms/step - loss: 0.4238 - acc: 0.7997 - val_loss: 0.5242 - val_acc: 0.7742\n",
      "Epoch 6/20\n",
      "500/500 [==============================] - 263s 525ms/step - loss: 0.4095 - acc: 0.8064 - val_loss: 0.5370 - val_acc: 0.7679\n",
      "Epoch 7/20\n",
      "500/500 [==============================] - 235s 471ms/step - loss: 0.3965 - acc: 0.8176 - val_loss: 0.5307 - val_acc: 0.7751\n",
      "Epoch 8/20\n",
      "500/500 [==============================] - 247s 494ms/step - loss: 0.3792 - acc: 0.8256 - val_loss: 0.5592 - val_acc: 0.7560\n",
      "Epoch 9/20\n",
      "500/500 [==============================] - 234s 467ms/step - loss: 0.3625 - acc: 0.8344 - val_loss: 0.6071 - val_acc: 0.7582\n",
      "Epoch 10/20\n",
      "500/500 [==============================] - 213s 425ms/step - loss: 0.3473 - acc: 0.8457 - val_loss: 0.5644 - val_acc: 0.7814\n",
      "Epoch 11/20\n",
      "500/500 [==============================] - 208s 416ms/step - loss: 0.3420 - acc: 0.8489 - val_loss: 0.5928 - val_acc: 0.7597\n",
      "Epoch 12/20\n",
      "500/500 [==============================] - 207s 413ms/step - loss: 0.3227 - acc: 0.8579 - val_loss: 0.6185 - val_acc: 0.7710\n",
      "Epoch 13/20\n",
      "500/500 [==============================] - 206s 413ms/step - loss: 0.3106 - acc: 0.8621 - val_loss: 0.6055 - val_acc: 0.7770\n",
      "Epoch 14/20\n",
      "500/500 [==============================] - 206s 412ms/step - loss: 0.3006 - acc: 0.8716 - val_loss: 0.6238 - val_acc: 0.7666\n",
      "Epoch 15/20\n",
      "500/500 [==============================] - 219s 438ms/step - loss: 0.2825 - acc: 0.8773 - val_loss: 0.6538 - val_acc: 0.7792\n",
      "Epoch 16/20\n",
      "500/500 [==============================] - 267s 533ms/step - loss: 0.2832 - acc: 0.8784 - val_loss: 0.6564 - val_acc: 0.7673\n",
      "Epoch 17/20\n",
      "500/500 [==============================] - 256s 512ms/step - loss: 0.2636 - acc: 0.8871 - val_loss: 0.7125 - val_acc: 0.7629\n",
      "Epoch 18/20\n",
      "500/500 [==============================] - 231s 462ms/step - loss: 0.2555 - acc: 0.8929 - val_loss: 0.7050 - val_acc: 0.7670\n",
      "Epoch 19/20\n",
      "500/500 [==============================] - 220s 440ms/step - loss: 0.2456 - acc: 0.8977 - val_loss: 0.7513 - val_acc: 0.7648\n",
      "Epoch 20/20\n",
      "500/500 [==============================] - 216s 432ms/step - loss: 0.2377 - acc: 0.9005 - val_loss: 0.7265 - val_acc: 0.7726\n"
     ]
    }
   ],
   "source": [
    "history = model.fit_generator(\n",
    "        training_set,\n",
    "        steps_per_epoch=500,\n",
    "        epochs=20,\n",
    "        validation_data=test_set,\n",
    "validation_steps=100)"
   ]
  },
  {
   "cell_type": "code",
   "execution_count": null,
   "metadata": {
    "collapsed": true
   },
   "outputs": [],
   "source": []
  },
  {
   "cell_type": "code",
   "execution_count": 15,
   "metadata": {},
   "outputs": [
    {
     "data": {
      "image/png": "[encoded data removed]",
      "text/plain": [
       "<matplotlib.figure.Figure at 0x1a41c9f8518>"
      ]
     },
     "metadata": {},
     "output_type": "display_data"
    }
   ],
   "source": [
    "import matplotlib.pyplot as plt\n",
    "%matplotlib inline\n",
    "# from IPython.display import Inline\n",
    "plt.plot(history.history['acc'])\n",
    "plt.plot(history.history['val_acc'])\n",
    "plt.title('model accuracy')\n",
    "plt.ylabel('accuracy')\n",
    "plt.xlabel('epoch')\n",
    "plt.legend(['train', 'test'], loc='upper left')\n",
    "plt.show()"
   ]
  },
  {
   "cell_type": "code",
   "execution_count": 16,
   "metadata": {},
   "outputs": [
    {
     "data": {
      "image/png": "[encoded data removed]",
      "text/plain": [
       "<matplotlib.figure.Figure at 0x1a41d178d30>"
      ]
     },
     "metadata": {},
     "output_type": "display_data"
    }
   ],
   "source": [
    "plt.plot(history.history['loss'])\n",
    "plt.plot(history.history['val_loss'])\n",
    "plt.title('model loss')\n",
    "plt.ylabel('loss')\n",
    "plt.xlabel('epoch')\n",
    "plt.legend(['train', 'test'], loc='upper left')\n",
    "plt.show()"
   ]
  },
  {
   "cell_type": "code",
   "execution_count": null,
   "metadata": {
    "collapsed": true
   },
   "outputs": [],
   "source": []
  },
  {
   "cell_type": "code",
   "execution_count": 12,
   "metadata": {},
   "outputs": [
    {
     "data": {
      "text/plain": [
       "<keras.preprocessing.image.DirectoryIterator at 0x162f4aee7f0>"
      ]
     },
     "execution_count": 12,
     "metadata": {},
     "output_type": "execute_result"
    }
   ],
   "source": [
    "test_set"
   ]
  },
  {
   "cell_type": "code",
   "execution_count": 13,
   "metadata": {
    "collapsed": true
   },
   "outputs": [],
   "source": [
    "from sklearn.metrics import accuracy_score"
   ]
  },
  {
   "cell_type": "code",
   "execution_count": null,
   "metadata": {
    "collapsed": true
   },
   "outputs": [],
   "source": []
  },
  {
   "cell_type": "code",
   "execution_count": null,
   "metadata": {
    "collapsed": true
   },
   "outputs": [],
   "source": []
  }
 ],
 "metadata": {
  "kernelspec": {
   "display_name": "Python 3",
   "language": "python",
   "name": "python3"
  },
  "language_info": {
   "codemirror_mode": {
    "name": "ipython",
    "version": 3
   },
   "file_extension": ".py",
   "mimetype": "text/x-python",
   "name": "python",
   "nbconvert_exporter": "python",
   "pygments_lexer": "ipython3",
   "version": "3.6.4"
  }
 },
 "nbformat": 4,
 "nbformat_minor": 2
}
