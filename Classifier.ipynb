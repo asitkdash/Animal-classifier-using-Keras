{
 "cells": [
  {
   "cell_type": "code",
   "execution_count": 1,
   "metadata": {},
   "outputs": [
    {
     "name": "stderr",
     "output_type": "stream",
     "text": [
      "/home/asit/.virtualenvs/virtual-py3/lib/python3.6/site-packages/h5py/__init__.py:36: FutureWarning: Conversion of the second argument of issubdtype from `float` to `np.floating` is deprecated. In future, it will be treated as `np.float64 == np.dtype(float).type`.\n",
      "  from ._conv import register_converters as _register_converters\n",
      "Using TensorFlow backend.\n"
     ]
    }
   ],
   "source": [
    "from keras.models import Sequential\n",
    "\n",
    "model = Sequential()"
   ]
  },
  {
   "cell_type": "code",
   "execution_count": 2,
   "metadata": {},
   "outputs": [],
   "source": [
    "from keras.layers import Dense, Flatten, MaxPooling2D, Convolution2D"
   ]
  },
  {
   "cell_type": "code",
   "execution_count": 3,
   "metadata": {},
   "outputs": [
    {
     "name": "stderr",
     "output_type": "stream",
     "text": [
      "/home/asit/.virtualenvs/virtual-py3/lib/python3.6/site-packages/ipykernel_launcher.py:3: UserWarning: Update your `Conv2D` call to the Keras 2 API: `Conv2D(32, (3, 3), input_shape=(64, 64, 3..., activation=\"relu\")`\n",
      "  This is separate from the ipykernel package so we can avoid doing imports until\n",
      "/home/asit/.virtualenvs/virtual-py3/lib/python3.6/site-packages/ipykernel_launcher.py:6: UserWarning: Update your `Dense` call to the Keras 2 API: `Dense(activation=\"relu\", units=128)`\n",
      "  \n",
      "/home/asit/.virtualenvs/virtual-py3/lib/python3.6/site-packages/ipykernel_launcher.py:7: UserWarning: Update your `Dense` call to the Keras 2 API: `Dense(activation=\"sigmoid\", units=1)`\n",
      "  import sys\n"
     ]
    }
   ],
   "source": [
    "\n",
    "model = Sequential()\n",
    "model.add(Convolution2D(32,3,3, input_shape=(64,64,3), activation='relu'))\n",
    "model.add(MaxPooling2D(pool_size=(2, 2)))\n",
    "model.add(Flatten())\n",
    "model.add(Dense(output_dim=128,activation='relu'))\n",
    "model.add(Dense(output_dim=1, activation='sigmoid'))"
   ]
  },
  {
   "cell_type": "code",
   "execution_count": 4,
   "metadata": {},
   "outputs": [],
   "source": [
    "model.compile(optimizer='adam', loss='binary_crossentropy', metrics=['accuracy'])"
   ]
  },
  {
   "cell_type": "code",
   "execution_count": 5,
   "metadata": {},
   "outputs": [],
   "source": [
    "from keras.preprocessing.image import ImageDataGenerator"
   ]
  },
  {
   "cell_type": "code",
   "execution_count": 6,
   "metadata": {},
   "outputs": [],
   "source": [
    "train_datagen = ImageDataGenerator(\n",
    "        rescale=1./255,\n",
    "        shear_range=0.2,\n",
    "        zoom_range=0.2,\n",
    "        horizontal_flip=True)"
   ]
  },
  {
   "cell_type": "code",
   "execution_count": 7,
   "metadata": {},
   "outputs": [],
   "source": [
    "\n",
    "test_datagen = ImageDataGenerator(rescale=1./255)"
   ]
  },
  {
   "cell_type": "code",
   "execution_count": 8,
   "metadata": {},
   "outputs": [
    {
     "name": "stdout",
     "output_type": "stream",
     "text": [
      "Found 8000 images belonging to 2 classes.\n"
     ]
    }
   ],
   "source": [
    "training_set = train_datagen.flow_from_directory(\n",
    "            'dataset/training_set',\n",
    "            target_size=(64,64),\n",
    "            batch_size=32,\n",
    "            class_mode='binary')"
   ]
  },
  {
   "cell_type": "code",
   "execution_count": 9,
   "metadata": {},
   "outputs": [
    {
     "name": "stdout",
     "output_type": "stream",
     "text": [
      "Found 2000 images belonging to 2 classes.\n"
     ]
    }
   ],
   "source": [
    "test_set= test_datagen.flow_from_directory(\n",
    "        'dataset/test_set',\n",
    "        target_size=(64, 64),\n",
    "        batch_size=32,\n",
    "class_mode='binary')"
   ]
  },
  {
   "cell_type": "code",
   "execution_count": 11,
   "metadata": {
    "scrolled": false
   },
   "outputs": [
    {
     "name": "stdout",
     "output_type": "stream",
     "text": [
      "Epoch 1/15\n",
      "2000/2000 [==============================] - 1053s 526ms/step - loss: 0.5402 - acc: 0.7231 - val_loss: 0.5445 - val_acc: 0.7458\n",
      "Epoch 2/15\n",
      "2000/2000 [==============================] - 917s 459ms/step - loss: 0.4293 - acc: 0.7988 - val_loss: 0.5465 - val_acc: 0.7663\n",
      "Epoch 3/15\n",
      "2000/2000 [==============================] - 945s 472ms/step - loss: 0.3426 - acc: 0.8481 - val_loss: 0.6446 - val_acc: 0.7523\n",
      "Epoch 4/15\n",
      "2000/2000 [==============================] - 1410s 705ms/step - loss: 0.2631 - acc: 0.8898 - val_loss: 0.7104 - val_acc: 0.7637\n",
      "Epoch 5/15\n",
      "2000/2000 [==============================] - 1266s 633ms/step - loss: 0.2003 - acc: 0.9198 - val_loss: 0.8896 - val_acc: 0.7556\n",
      "Epoch 6/15\n",
      "2000/2000 [==============================] - 1066s 533ms/step - loss: 0.1528 - acc: 0.9403 - val_loss: 0.9711 - val_acc: 0.7631\n",
      "Epoch 7/15\n",
      "2000/2000 [==============================] - 969s 485ms/step - loss: 0.1258 - acc: 0.9529 - val_loss: 1.0353 - val_acc: 0.7555\n",
      "Epoch 8/15\n",
      "2000/2000 [==============================] - 1150s 575ms/step - loss: 0.1076 - acc: 0.9599 - val_loss: 1.1841 - val_acc: 0.7430\n",
      "Epoch 9/15\n",
      "2000/2000 [==============================] - 1031s 515ms/step - loss: 0.0901 - acc: 0.9660 - val_loss: 1.1443 - val_acc: 0.7660\n",
      "Epoch 10/15\n",
      "2000/2000 [==============================] - 976s 488ms/step - loss: 0.0765 - acc: 0.9725 - val_loss: 1.2918 - val_acc: 0.7569\n",
      "Epoch 11/15\n",
      "2000/2000 [==============================] - 1021s 510ms/step - loss: 0.0726 - acc: 0.9745 - val_loss: 1.3754 - val_acc: 0.7526\n",
      "Epoch 12/15\n",
      "2000/2000 [==============================] - 1260s 630ms/step - loss: 0.0637 - acc: 0.9768 - val_loss: 1.3858 - val_acc: 0.7580\n",
      "Epoch 13/15\n",
      "2000/2000 [==============================] - 972s 486ms/step - loss: 0.0598 - acc: 0.9798 - val_loss: 1.4741 - val_acc: 0.7578\n",
      "Epoch 14/15\n",
      "2000/2000 [==============================] - 1372s 686ms/step - loss: 0.0569 - acc: 0.9791 - val_loss: 1.4985 - val_acc: 0.7478\n",
      "Epoch 15/15\n",
      "2000/2000 [==============================] - 1121s 561ms/step - loss: 0.0498 - acc: 0.9825 - val_loss: 1.5443 - val_acc: 0.7554\n"
     ]
    },
    {
     "data": {
      "text/plain": [
       "<keras.callbacks.History at 0x7f6a5e3e6be0>"
      ]
     },
     "execution_count": 11,
     "metadata": {},
     "output_type": "execute_result"
    }
   ],
   "source": [
    "model.fit_generator(\n",
    "        training_set,\n",
    "        steps_per_epoch=2000,\n",
    "        epochs=15,\n",
    "        validation_data=test_set,\n",
    "validation_steps=2000)"
   ]
  },
  {
   "cell_type": "code",
   "execution_count": null,
   "metadata": {},
   "outputs": [],
   "source": []
  },
  {
   "cell_type": "code",
   "execution_count": null,
   "metadata": {},
   "outputs": [],
   "source": []
  },
  {
   "cell_type": "code",
   "execution_count": null,
   "metadata": {},
   "outputs": [],
   "source": []
  }
 ],
 "metadata": {
  "kernelspec": {
   "display_name": "Python 3",
   "language": "python",
   "name": "python3"
  },
  "language_info": {
   "codemirror_mode": {
    "name": "ipython",
    "version": 3
   },
   "file_extension": ".py",
   "mimetype": "text/x-python",
   "name": "python",
   "nbconvert_exporter": "python",
   "pygments_lexer": "ipython3",
   "version": "3.6.3"
  }
 },
 "nbformat": 4,
 "nbformat_minor": 2
}
