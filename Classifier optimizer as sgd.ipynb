{
 "cells": [
  {
   "cell_type": "code",
   "execution_count": 1,
   "metadata": {},
   "outputs": [
    {
     "name": "stderr",
     "output_type": "stream",
     "text": [
      "/home/asit/.virtualenvs/virtual-py3/lib/python3.6/site-packages/h5py/__init__.py:36: FutureWarning: Conversion of the second argument of issubdtype from `float` to `np.floating` is deprecated. In future, it will be treated as `np.float64 == np.dtype(float).type`.\n",
      "  from ._conv import register_converters as _register_converters\n",
      "Using TensorFlow backend.\n"
     ]
    }
   ],
   "source": [
    "from keras.models import Sequential\n",
    "\n",
    "model = Sequential()"
   ]
  },
  {
   "cell_type": "code",
   "execution_count": 2,
   "metadata": {},
   "outputs": [],
   "source": [
    "from keras.layers import Dense, Flatten, MaxPooling2D, Convolution2D"
   ]
  },
  {
   "cell_type": "code",
   "execution_count": 3,
   "metadata": {},
   "outputs": [
    {
     "name": "stderr",
     "output_type": "stream",
     "text": [
      "/home/asit/.virtualenvs/virtual-py3/lib/python3.6/site-packages/ipykernel_launcher.py:3: UserWarning: Update your `Conv2D` call to the Keras 2 API: `Conv2D(32, (3, 3), input_shape=(64, 64, 3..., activation=\"relu\")`\n",
      "  This is separate from the ipykernel package so we can avoid doing imports until\n",
      "/home/asit/.virtualenvs/virtual-py3/lib/python3.6/site-packages/ipykernel_launcher.py:6: UserWarning: Update your `Dense` call to the Keras 2 API: `Dense(activation=\"relu\", units=128)`\n",
      "  \n",
      "/home/asit/.virtualenvs/virtual-py3/lib/python3.6/site-packages/ipykernel_launcher.py:7: UserWarning: Update your `Dense` call to the Keras 2 API: `Dense(activation=\"sigmoid\", units=1)`\n",
      "  import sys\n"
     ]
    }
   ],
   "source": [
    "\n",
    "model = Sequential()\n",
    "model.add(Convolution2D(32,3,3, input_shape=(64,64,3), activation='relu'))\n",
    "model.add(MaxPooling2D(pool_size=(2, 2)))\n",
    "model.add(Flatten())\n",
    "model.add(Dense(output_dim=128,activation='relu'))\n",
    "model.add(Dense(output_dim=1, activation='sigmoid'))"
   ]
  },
  {
   "cell_type": "code",
   "execution_count": 13,
   "metadata": {},
   "outputs": [],
   "source": [
    "#model.compile(optimizer='adam', loss='binary_crossentropy', metrics=['accuracy'])\n",
    "model.compile(loss='binary_crossentropy',\n",
    "              optimizer='sgd',\n",
    "              metrics=['accuracy'])"
   ]
  },
  {
   "cell_type": "code",
   "execution_count": 5,
   "metadata": {},
   "outputs": [],
   "source": [
    "from keras.preprocessing.image import ImageDataGenerator"
   ]
  },
  {
   "cell_type": "code",
   "execution_count": 6,
   "metadata": {},
   "outputs": [],
   "source": [
    "train_datagen = ImageDataGenerator(\n",
    "        rescale=1./255,\n",
    "        shear_range=0.2,\n",
    "        zoom_range=0.2,\n",
    "        horizontal_flip=True)"
   ]
  },
  {
   "cell_type": "code",
   "execution_count": 7,
   "metadata": {},
   "outputs": [],
   "source": [
    "\n",
    "test_datagen = ImageDataGenerator(rescale=1./255)"
   ]
  },
  {
   "cell_type": "code",
   "execution_count": 8,
   "metadata": {},
   "outputs": [
    {
     "name": "stdout",
     "output_type": "stream",
     "text": [
      "Found 8000 images belonging to 2 classes.\n"
     ]
    }
   ],
   "source": [
    "training_set = train_datagen.flow_from_directory(\n",
    "            'dataset/training_set',\n",
    "            target_size=(64,64),\n",
    "            batch_size=32,\n",
    "            class_mode='binary')"
   ]
  },
  {
   "cell_type": "code",
   "execution_count": 9,
   "metadata": {},
   "outputs": [
    {
     "name": "stdout",
     "output_type": "stream",
     "text": [
      "Found 2000 images belonging to 2 classes.\n"
     ]
    }
   ],
   "source": [
    "test_set= test_datagen.flow_from_directory(\n",
    "        'dataset/test_set',\n",
    "        target_size=(64, 64),\n",
    "        batch_size=32,\n",
    "class_mode='binary')"
   ]
  },
  {
   "cell_type": "code",
   "execution_count": 14,
   "metadata": {
    "scrolled": false
   },
   "outputs": [
    {
     "name": "stdout",
     "output_type": "stream",
     "text": [
      "Epoch 1/15\n",
      "2000/2000 [==============================] - 869s 435ms/step - loss: 0.6526 - acc: 0.6086 - val_loss: 0.6109 - val_acc: 0.6584\n",
      "Epoch 2/15\n",
      "2000/2000 [==============================] - 1100s 550ms/step - loss: 0.5972 - acc: 0.6768 - val_loss: 0.5686 - val_acc: 0.7056\n",
      "Epoch 3/15\n",
      "2000/2000 [==============================] - 1056s 528ms/step - loss: 0.5499 - acc: 0.7219 - val_loss: 0.5364 - val_acc: 0.7235\n",
      "Epoch 4/15\n",
      "2000/2000 [==============================] - 1129s 564ms/step - loss: 0.5119 - acc: 0.7473 - val_loss: 0.5396 - val_acc: 0.7287\n",
      "Epoch 5/15\n",
      "2000/2000 [==============================] - 1144s 572ms/step - loss: 0.4836 - acc: 0.7674 - val_loss: 0.5159 - val_acc: 0.7445\n",
      "Epoch 6/15\n",
      "2000/2000 [==============================] - 1068s 534ms/step - loss: 0.4546 - acc: 0.7865 - val_loss: 0.5195 - val_acc: 0.7550\n",
      "Epoch 7/15\n",
      "2000/2000 [==============================] - 1084s 542ms/step - loss: 0.4236 - acc: 0.8027 - val_loss: 0.5157 - val_acc: 0.7578\n",
      "Epoch 8/15\n",
      "2000/2000 [==============================] - 1159s 580ms/step - loss: 0.3946 - acc: 0.8214 - val_loss: 0.5052 - val_acc: 0.7730\n",
      "Epoch 9/15\n",
      "2000/2000 [==============================] - 867s 434ms/step - loss: 0.3656 - acc: 0.8391 - val_loss: 0.5276 - val_acc: 0.7742\n",
      "Epoch 10/15\n",
      "2000/2000 [==============================] - 1005s 503ms/step - loss: 0.3340 - acc: 0.8556 - val_loss: 0.5484 - val_acc: 0.7771\n",
      "Epoch 11/15\n",
      "2000/2000 [==============================] - 1159s 579ms/step - loss: 0.3046 - acc: 0.8722 - val_loss: 0.5710 - val_acc: 0.7695\n",
      "Epoch 12/15\n",
      "2000/2000 [==============================] - 853s 427ms/step - loss: 0.2743 - acc: 0.8866 - val_loss: 0.5607 - val_acc: 0.7717\n",
      "Epoch 13/15\n",
      "2000/2000 [==============================] - 1441s 720ms/step - loss: 0.2431 - acc: 0.9035 - val_loss: 0.5888 - val_acc: 0.7663\n",
      "Epoch 14/15\n",
      "2000/2000 [==============================] - 874s 437ms/step - loss: 0.2166 - acc: 0.9165 - val_loss: 0.6613 - val_acc: 0.7582\n",
      "Epoch 15/15\n",
      "2000/2000 [==============================] - 1291s 646ms/step - loss: 0.1899 - acc: 0.9278 - val_loss: 0.6619 - val_acc: 0.7615\n"
     ]
    },
    {
     "data": {
      "text/plain": [
       "<keras.callbacks.History at 0x7f9ac43aa278>"
      ]
     },
     "execution_count": 14,
     "metadata": {},
     "output_type": "execute_result"
    }
   ],
   "source": [
    "model.fit_generator(\n",
    "        training_set,\n",
    "        steps_per_epoch=2000,\n",
    "        epochs=15,\n",
    "        validation_data=test_set,\n",
    "validation_steps=2000)"
   ]
  },
  {
   "cell_type": "code",
   "execution_count": null,
   "metadata": {},
   "outputs": [],
   "source": []
  },
  {
   "cell_type": "code",
   "execution_count": null,
   "metadata": {},
   "outputs": [],
   "source": []
  },
  {
   "cell_type": "code",
   "execution_count": null,
   "metadata": {},
   "outputs": [],
   "source": []
  }
 ],
 "metadata": {
  "kernelspec": {
   "display_name": "Python 3",
   "language": "python",
   "name": "python3"
  },
  "language_info": {
   "codemirror_mode": {
    "name": "ipython",
    "version": 3
   },
   "file_extension": ".py",
   "mimetype": "text/x-python",
   "name": "python",
   "nbconvert_exporter": "python",
   "pygments_lexer": "ipython3",
   "version": "3.6.3"
  }
 },
 "nbformat": 4,
 "nbformat_minor": 2
}
