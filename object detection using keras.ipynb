{
 "cells": [
  {
   "cell_type": "code",
   "execution_count": 1,
   "metadata": {},
   "outputs": [
    {
     "name": "stderr",
     "output_type": "stream",
     "text": [
      "c:\\users\\varun\\appdata\\local\\programs\\python\\python36\\lib\\site-packages\\h5py\\__init__.py:36: FutureWarning: Conversion of the second argument of issubdtype from `float` to `np.floating` is deprecated. In future, it will be treated as `np.float64 == np.dtype(float).type`.\n",
      "  from ._conv import register_converters as _register_converters\n",
      "Using TensorFlow backend.\n"
     ]
    }
   ],
   "source": [
    "from keras.models import Sequential\n",
    "\n",
    "model = Sequential()"
   ]
  },
  {
   "cell_type": "code",
   "execution_count": 2,
   "metadata": {},
   "outputs": [],
   "source": [
    "from keras.layers import Dense, Flatten, MaxPooling2D, Convolution2D"
   ]
  },
  {
   "cell_type": "code",
   "execution_count": 3,
   "metadata": {},
   "outputs": [
    {
     "name": "stderr",
     "output_type": "stream",
     "text": [
      "c:\\users\\varun\\appdata\\local\\programs\\python\\python36\\lib\\site-packages\\ipykernel_launcher.py:3: UserWarning: Update your `Conv2D` call to the Keras 2 API: `Conv2D(32, (3, 3), input_shape=(64, 64, 3..., activation=\"relu\")`\n",
      "  This is separate from the ipykernel package so we can avoid doing imports until\n",
      "c:\\users\\varun\\appdata\\local\\programs\\python\\python36\\lib\\site-packages\\ipykernel_launcher.py:6: UserWarning: Update your `Dense` call to the Keras 2 API: `Dense(activation=\"relu\", units=128)`\n",
      "  \n",
      "c:\\users\\varun\\appdata\\local\\programs\\python\\python36\\lib\\site-packages\\ipykernel_launcher.py:7: UserWarning: Update your `Dense` call to the Keras 2 API: `Dense(activation=\"sigmoid\", units=1)`\n",
      "  import sys\n"
     ]
    }
   ],
   "source": [
    "#preprocessing\n",
    "model = Sequential()\n",
    "model.add(Convolution2D(32,3,3, input_shape=(64, 64,3), activation='relu'))\n",
    "model.add(MaxPooling2D(pool_size=(2, 2)))\n",
    "model.add(Flatten())\n",
    "model.add(Dense(output_dim=128,activation='relu'))\n",
    "model.add(Dense(output_dim=1, activation='sigmoid'))"
   ]
  },
  {
   "cell_type": "code",
   "execution_count": 4,
   "metadata": {},
   "outputs": [],
   "source": [
    "model.compile(optimizer='adam', loss='binary_crossentropy', metrics=['accuracy'])"
   ]
  },
  {
   "cell_type": "code",
   "execution_count": 5,
   "metadata": {},
   "outputs": [],
   "source": [
    "from keras.preprocessing.image import ImageDataGenerator"
   ]
  },
  {
   "cell_type": "code",
   "execution_count": 6,
   "metadata": {},
   "outputs": [],
   "source": [
    "train_datagen = ImageDataGenerator(\n",
    "        rescale=1./255,\n",
    "        shear_range=0.2,\n",
    "        zoom_range=0.2,\n",
    "        horizontal_flip=True)"
   ]
  },
  {
   "cell_type": "code",
   "execution_count": 7,
   "metadata": {},
   "outputs": [],
   "source": [
    "test_datagen = ImageDataGenerator(rescale=1./255)"
   ]
  },
  {
   "cell_type": "code",
   "execution_count": 8,
   "metadata": {},
   "outputs": [
    {
     "name": "stdout",
     "output_type": "stream",
     "text": [
      "Found 2000 images belonging to 2 classes.\n"
     ]
    }
   ],
   "source": [
    "training_set = train_datagen.flow_from_directory('dataset/training_set',\n",
    "            target_size=(64, 64),\n",
    "            batch_size=32,\n",
    "            class_mode='binary')"
   ]
  },
  {
   "cell_type": "code",
   "execution_count": 9,
   "metadata": {},
   "outputs": [
    {
     "name": "stdout",
     "output_type": "stream",
     "text": [
      "Found 1000 images belonging to 2 classes.\n"
     ]
    }
   ],
   "source": [
    "test_set= test_datagen.flow_from_directory('dataset/test_set',\n",
    "        target_size=(64, 64),\n",
    "        batch_size=32,\n",
    "class_mode='binary')"
   ]
  },
  {
   "cell_type": "code",
   "execution_count": 10,
   "metadata": {},
   "outputs": [
    {
     "name": "stdout",
     "output_type": "stream",
     "text": [
      "Epoch 1/15\n",
      "500/500 [==============================] - 27s 54ms/step - loss: 0.5865 - acc: 0.6871 - val_loss: 0.5428 - val_acc: 0.7303\n",
      "Epoch 2/15\n",
      "500/500 [==============================] - 24s 49ms/step - loss: 0.4604 - acc: 0.7822 - val_loss: 0.5573 - val_acc: 0.7271\n",
      "Epoch 3/15\n",
      "500/500 [==============================] - 24s 48ms/step - loss: 0.3708 - acc: 0.8340 - val_loss: 0.5547 - val_acc: 0.7522\n",
      "Epoch 4/15\n",
      "500/500 [==============================] - 24s 49ms/step - loss: 0.2951 - acc: 0.8774 - val_loss: 0.6183 - val_acc: 0.7559\n",
      "Epoch 5/15\n",
      "500/500 [==============================] - 25s 49ms/step - loss: 0.2300 - acc: 0.9061 - val_loss: 0.6509 - val_acc: 0.7652\n",
      "Epoch 6/15\n",
      "500/500 [==============================] - 25s 50ms/step - loss: 0.1770 - acc: 0.9316 - val_loss: 0.6930 - val_acc: 0.7452\n",
      "Epoch 7/15\n",
      "500/500 [==============================] - 24s 49ms/step - loss: 0.1363 - acc: 0.9493 - val_loss: 0.7866 - val_acc: 0.7458\n",
      "Epoch 8/15\n",
      "500/500 [==============================] - 24s 48ms/step - loss: 0.1083 - acc: 0.9623 - val_loss: 0.8802 - val_acc: 0.7396\n",
      "Epoch 9/15\n",
      "500/500 [==============================] - 25s 51ms/step - loss: 0.0896 - acc: 0.9686 - val_loss: 0.9761 - val_acc: 0.7220\n",
      "Epoch 10/15\n",
      "500/500 [==============================] - 24s 49ms/step - loss: 0.0654 - acc: 0.9792 - val_loss: 0.9558 - val_acc: 0.7623\n",
      "Epoch 11/15\n",
      "500/500 [==============================] - 24s 48ms/step - loss: 0.0597 - acc: 0.9799 - val_loss: 0.9391 - val_acc: 0.7527\n",
      "Epoch 12/15\n",
      "500/500 [==============================] - 24s 49ms/step - loss: 0.0429 - acc: 0.9872 - val_loss: 1.0280 - val_acc: 0.7628\n",
      "Epoch 13/15\n",
      "500/500 [==============================] - 25s 50ms/step - loss: 0.0440 - acc: 0.9856 - val_loss: 1.2753 - val_acc: 0.7243\n",
      "Epoch 14/15\n",
      "500/500 [==============================] - 25s 49ms/step - loss: 0.0564 - acc: 0.9809 - val_loss: 1.1127 - val_acc: 0.7361ETA: 15s - loss: 0.0312 - acc: 0.9924 - ETA: 17s - loss: 0.0330 - acc: 0.9910 - ETA: 16s - loss: 0.0330 - acc: 0.9898\n",
      "Epoch 15/15\n",
      "500/500 [==============================] - 24s 48ms/step - loss: 0.0381 - acc: 0.9881 - val_loss: 1.1208 - val_acc: 0.7529\n"
     ]
    }
   ],
   "source": [
    "history = model.fit_generator(\n",
    "        training_set,\n",
    "        steps_per_epoch=500,\n",
    "        epochs=15,\n",
    "        validation_data=test_set,\n",
    "validation_steps=200)"
   ]
  },
  {
   "cell_type": "code",
   "execution_count": 11,
   "metadata": {},
   "outputs": [],
   "source": [
    "model.save('model.h5')\n",
    "model.save_weights('weights.h5')"
   ]
  },
  {
   "cell_type": "code",
   "execution_count": 12,
   "metadata": {},
   "outputs": [
    {
     "data": {
      "image/png": "[encoded data removed]",
      "text/plain": [
       "<matplotlib.figure.Figure at 0x2009ca495f8>"
      ]
     },
     "metadata": {},
     "output_type": "display_data"
    }
   ],
   "source": [
    "import matplotlib.pyplot as plt\n",
    "%matplotlib inline\n",
    "# from IPython.display import Inline\n",
    "plt.plot(history.history['acc'])\n",
    "plt.plot(history.history['val_acc'])\n",
    "plt.title('model accuracy')\n",
    "plt.ylabel('accuracy')\n",
    "plt.xlabel('epoch')\n",
    "plt.legend(['train', 'test'], loc='upper left')\n",
    "plt.show()"
   ]
  },
  {
   "cell_type": "code",
   "execution_count": 13,
   "metadata": {},
   "outputs": [
    {
     "data": {
      "image/png": "[encoded data removed]",
      "text/plain": [
       "<matplotlib.figure.Figure at 0x200844c94a8>"
      ]
     },
     "metadata": {},
     "output_type": "display_data"
    }
   ],
   "source": [
    "plt.plot(history.history['loss'])\n",
    "plt.plot(history.history['val_loss'])\n",
    "plt.title('model loss')\n",
    "plt.ylabel('loss')\n",
    "plt.xlabel('epoch')\n",
    "plt.legend(['train', 'test'], loc='upper left')\n",
    "plt.show()"
   ]
  },
  {
   "cell_type": "code",
   "execution_count": null,
   "metadata": {},
   "outputs": [],
   "source": []
  },
  {
   "cell_type": "code",
   "execution_count": null,
   "metadata": {},
   "outputs": [],
   "source": []
  },
  {
   "cell_type": "code",
   "execution_count": null,
   "metadata": {},
   "outputs": [],
   "source": []
  }
 ],
 "metadata": {
  "kernelspec": {
   "display_name": "Python 3",
   "language": "python",
   "name": "python3"
  },
  "language_info": {
   "codemirror_mode": {
    "name": "ipython",
    "version": 3
   },
   "file_extension": ".py",
   "mimetype": "text/x-python",
   "name": "python",
   "nbconvert_exporter": "python",
   "pygments_lexer": "ipython3",
   "version": "3.6.4"
  }
 },
 "nbformat": 4,
 "nbformat_minor": 2
}
